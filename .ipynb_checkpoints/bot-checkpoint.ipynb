{
 "cells": [
  {
   "cell_type": "code",
   "execution_count": 1,
   "metadata": {},
   "outputs": [],
   "source": [
    "import tweepy\n",
    "import logging\n",
    "import twitter_config"
   ]
  },
  {
   "cell_type": "code",
   "execution_count": 25,
   "metadata": {},
   "outputs": [],
   "source": [
    "# py twitter_bot_code.py > output.txt #anything being printed will be saved in output.txt"
   ]
  },
  {
   "cell_type": "code",
   "execution_count": 2,
   "metadata": {},
   "outputs": [],
   "source": [
    "logging.basicConfig(filename='app.log', filemode='w', level=logging.INFO, \n",
    "                        format='%(asctime)s - %(levelname)s - %(message)s', datefmt='%d-%b-%y %H:%M:%S')\n",
    "\n",
    "logger = logging.getLogger()\n",
    "\n",
    "# filename='app.log', filemode='w', Use 'a' for appending to the same file"
   ]
  },
  {
   "cell_type": "code",
   "execution_count": 4,
   "metadata": {},
   "outputs": [],
   "source": [
    "# api_key = api_config['api_key']\n",
    "# api_key_secret = api_config['api_key_secret']\n",
    "# access_token = api_config['access_token']\n",
    "# access_token_secret = api_config['access_token_secret']"
   ]
  },
  {
   "cell_type": "code",
   "execution_count": 5,
   "metadata": {},
   "outputs": [],
   "source": [
    "# Authenticate to Twitter\n",
    "# auth = tweepy.OAuthHandler(api_key, api_key_secret)\n",
    "# auth.set_access_token(access_token, access_token_secret)\n",
    "\n",
    "api_config = twitter_config.api_config\n",
    "auth = tweepy.OAuthHandler(api_config['api_key'], api_config['api_key_secret'])\n",
    "auth.set_access_token(api_config['access_token'], api_config['access_token_secret'])\n",
    "\n",
    "api = tweepy.API(auth)\n",
    "\n",
    "try:\n",
    "    temp = api.verify_credentials()\n",
    "    logger.info(\"Authentication OK\")\n",
    "except:\n",
    "    logger.error(\"Error during authentication\", exc_info=True)"
   ]
  },
  {
   "cell_type": "code",
   "execution_count": 10,
   "metadata": {},
   "outputs": [],
   "source": [
    "def get_api(api_config):\n",
    "    \n",
    "    auth = tweepy.OAuthHandler(api_config['api_key'], api_config['api_key_secret'])\n",
    "    auth.set_access_token(api_config['access_token'], api_config['access_token_secret'])\n",
    "\n",
    "    # Create API object\n",
    "    api = tweepy.API(auth, wait_on_rate_limit=True,\n",
    "        wait_on_rate_limit_notify=True)\n",
    "    \n",
    "    try:\n",
    "        temp = api.verify_credentials()\n",
    "        logger.info(\"Authentication OK\")\n",
    "    except:\n",
    "        logger.error(\"Error during authentication\", exc_info=True)\n",
    "        \n",
    "    return api"
   ]
  },
  {
   "cell_type": "code",
   "execution_count": 11,
   "metadata": {},
   "outputs": [],
   "source": [
    "# get_api(twitter_config.api_config)"
   ]
  },
  {
   "cell_type": "code",
   "execution_count": 12,
   "metadata": {},
   "outputs": [],
   "source": [
    "# Create API object\n",
    "api = tweepy.API(auth, wait_on_rate_limit=True,\n",
    "    wait_on_rate_limit_notify=True)"
   ]
  },
  {
   "cell_type": "code",
   "execution_count": 13,
   "metadata": {},
   "outputs": [],
   "source": [
    "# # Defining a generator \n",
    "# cursor = tweepy.Cursor(api.home_timeline).items()"
   ]
  },
  {
   "cell_type": "code",
   "execution_count": 14,
   "metadata": {},
   "outputs": [],
   "source": [
    "# timeline[0].user.name\n",
    "# timeline[0].user.screen_name\n",
    "\n",
    "# for tweet in timeline:\n",
    "#     print(f\"{tweet.user.name} said {tweet.text}\")"
   ]
  },
  {
   "cell_type": "markdown",
   "metadata": {},
   "source": [
    "Create a new twitter account, code the bot logic, Enter the usernames, <br>\n",
    "The app will get tweets with most likes and most replies/retweets in the last 24 hours"
   ]
  },
  {
   "cell_type": "markdown",
   "metadata": {},
   "source": [
    "Use tweet.user.name to get the user who posted the tweet or RTed <br>\n",
    "in_reply_to_status_id is not None when a tweet is a reply to some other tweet<br>\n",
    "Want tweets which are not RTs or replies to tweets, basically, tweets composed by the @user "
   ]
  },
  {
   "cell_type": "markdown",
   "metadata": {},
   "source": [
    "#### New Ideas<br>\n",
    "1. Specify that a tweet is RT (add 'RT' at the start of the tweet). After prefixing, if the tweet is > 280 characters, go back to the original tweet. One more idea is to create more than 1 tweet with other tweets being a reply to the first tweet.\n",
    "2. Similarly, we can specify the user name at the start of the tweet for futher clarity regarding the tweet. Question, if we don't know who posted the tweet, is it still valuable?"
   ]
  },
  {
   "cell_type": "code",
   "execution_count": 15,
   "metadata": {},
   "outputs": [],
   "source": [
    "# user_name = 'elonmusk'\n",
    "# # how many tweets to retrieve for any given user\n",
    "# timeline = api.user_timeline(user_name, tweet_mode=\"extended\", count=50)\n",
    "# timeline = api.user_timeline(user_name, tweet_mode=\"extended\", count=50, page=1)\n",
    "# timeline = tweepy.Cursor(api.user_timeline, screen_name=user_name, tweet_mode=\"extended\").items(50)"
   ]
  },
  {
   "cell_type": "code",
   "execution_count": 16,
   "metadata": {
    "code_folding": [],
    "scrolled": true
   },
   "outputs": [],
   "source": [
    "# for tweet in timeline:\n",
    "#     print(f\"{tweet.user.name} said {tweet.full_text}\")\n",
    "# len(timeline)"
   ]
  },
  {
   "cell_type": "markdown",
   "metadata": {},
   "source": [
    "Types of tweet:\n",
    "1. A direct tweet\n",
    "2. A Retweet, Will have retweeted_status\n",
    "3. A Retweet with a comment; Will not have retweeted_status, instead have quoted_status under the parent tweet\n",
    "4. A Retweet of a retweet with a comment; Will have retweeted_status as well as retweeted_status.quoted_status"
   ]
  },
  {
   "cell_type": "code",
   "execution_count": 17,
   "metadata": {},
   "outputs": [],
   "source": [
    "from datetime import datetime, timedelta"
   ]
  },
  {
   "cell_type": "code",
   "execution_count": 18,
   "metadata": {},
   "outputs": [
    {
     "name": "stdout",
     "output_type": "stream",
     "text": [
      "2020-05-29 14:31:50.610138 2020-05-30 14:31:50.610138\n"
     ]
    }
   ],
   "source": [
    "present = datetime.now() \n",
    "\n",
    "# timeline[3].created_at.date() == date.today()\n",
    "\n",
    "DAY = timedelta(days=1)\n",
    "past = present - DAY\n",
    "\n",
    "print (past, present)"
   ]
  },
  {
   "cell_type": "code",
   "execution_count": 19,
   "metadata": {},
   "outputs": [],
   "source": [
    "def get_timestamp_past_24_hours():\n",
    "    \n",
    "    present = datetime.now()\n",
    "    \n",
    "    DAY = timedelta(days=1)\n",
    "    past = present - DAY\n",
    "    \n",
    "    return past"
   ]
  },
  {
   "cell_type": "code",
   "execution_count": 20,
   "metadata": {},
   "outputs": [],
   "source": [
    "def get_tweet_list(timeline, past, retweets=True):\n",
    "    \n",
    "    # for a given @user\n",
    "    tweet_list = []\n",
    "    for tweet in timeline:\n",
    "\n",
    "        # If the tweet is prior to the last 24 hours\n",
    "        if tweet.created_at < past:\n",
    "            break\n",
    "        else:\n",
    "            # Only proceed if the tweet is directly from the user or a retweet\n",
    "            if not(tweet.in_reply_to_status_id):\n",
    "                \n",
    "                # If tweet is a RT\n",
    "                try:\n",
    "                    tweet = tweet.retweeted_status\n",
    "                    \n",
    "                    # if retweets is False, continue\n",
    "                    if not(retweets):continue\n",
    "\n",
    "                # pass if it's a direct tweet from the said user\n",
    "                except: pass\n",
    "\n",
    "                tweet_list.append([tweet.id_str, tweet.full_text, tweet.retweet_count, tweet.favorite_count])\n",
    "\n",
    "    return tweet_list"
   ]
  },
  {
   "cell_type": "code",
   "execution_count": 21,
   "metadata": {},
   "outputs": [],
   "source": [
    "# timeline = api.user_timeline('micsolana', tweet_mode=\"extended\", count=50, page=1)\n",
    "\n",
    "# tweet_list = get_tweet_list(timeline, past, retweets=False)\n",
    "\n",
    "# for tweet in tweet_list:\n",
    "#     print (tweet[1])"
   ]
  },
  {
   "cell_type": "code",
   "execution_count": 22,
   "metadata": {
    "code_folding": []
   },
   "outputs": [],
   "source": [
    "def apply_logic(api, user_name, tweet_list):\n",
    "    \n",
    "    if len(tweet_list) == 0:\n",
    "        logger.info(f'No tweets from {user_name} fulfil the specified criteria')\n",
    "        return\n",
    "    \n",
    "    # sort list with key\n",
    "    # 2-> retweet_count and 3 -> favorite_count\n",
    "    # get the first tweet after sorting in descending order and then get tweet_id\n",
    "    max_retweets_id = sorted(tweet_list, key=lambda i:i[2], reverse=True)[0][0]\n",
    "    max_favorites_id = sorted(tweet_list, key=lambda i:i[3], reverse=True)[0][0]\n",
    "\n",
    "    # if max_retweets_id and max_favorites_id refer to the same id, retweet one of them\n",
    "    if max_retweets_id == max_favorites_id:\n",
    "        _ = api.retweet(int(max_retweets_id))\n",
    "\n",
    "    else:\n",
    "        _ = api.retweet(int(max_retweets_id))\n",
    "        _ = api.retweet(int(max_favorites_id))\n",
    "\n",
    "def retweet(api, user_name, past, retweets=True):\n",
    "\n",
    "    tweet_list = []\n",
    "\n",
    "    # specify the page number\n",
    "    page_no=1\n",
    "\n",
    "    # get tweets for the specified user\n",
    "    timeline = api.user_timeline(user_name, tweet_mode=\"extended\", count=50, page=page_no)\n",
    "\n",
    "    # the first tweet is created prior to the past datetime\n",
    "    while timeline[0].created_at > past:\n",
    "\n",
    "        # append the returned list of tweets\n",
    "        tweet_list += get_tweet_list(timeline, past, retweets=retweets)\n",
    "\n",
    "        # Increment page_no counter\n",
    "        page_no+=1\n",
    "\n",
    "        # get the next batch of tweets for the specified user\n",
    "        timeline = api.user_timeline(user_name, tweet_mode=\"extended\", count=50, page=page_no)\n",
    "    \n",
    "    # return tweet_list\n",
    "\n",
    "    # send to apply_logic func for sorting and other checks\n",
    "    apply_logic(api, user_name, tweet_list)\n",
    "    "
   ]
  },
  {
   "cell_type": "code",
   "execution_count": 23,
   "metadata": {},
   "outputs": [],
   "source": [
    "# # logging_example.py\n",
    "# # Very important, run this script only once or be prepared for interesting logs\n",
    "\n",
    "# import logging\n",
    "\n",
    "# # Create a custom logger\n",
    "# logger = logging.getLogger('example_logger')\n",
    "\n",
    "# # Create handlers\n",
    "# c_handler = logging.StreamHandler()\n",
    "# f_handler = logging.FileHandler('file.log')\n",
    "# c_handler.setLevel(logging.WARNING)\n",
    "# f_handler.setLevel(logging.ERROR)\n",
    "\n",
    "# # Create formatters and add it to handlers\n",
    "# c_format = logging.Formatter('%(name)s - %(levelname)s - %(message)s')\n",
    "# f_format = logging.Formatter('%(asctime)s - %(name)s - %(levelname)s - %(message)s')\n",
    "# c_handler.setFormatter(c_format)\n",
    "# f_handler.setFormatter(f_format)\n",
    "\n",
    "# # Add handlers to the logger\n",
    "# logger.addHandler(c_handler)\n",
    "# logger.addHandler(f_handler)\n",
    "\n",
    "# logger.warning('This is a warning')\n",
    "# logger.error('This is an error')\n"
   ]
  },
  {
   "cell_type": "code",
   "execution_count": 24,
   "metadata": {},
   "outputs": [],
   "source": [
    "list_user_names = ['naval','elonmusk','paulg','micsolana','jamesclear']\n",
    "\n",
    "for user_name in list_user_names:\n",
    "    try:\n",
    "        retweet(api, user_name, past, retweets=False)\n",
    "    \n",
    "    # To handle any errors raises while running against a specific user\n",
    "    except tweepy.TweepError as e:\n",
    "        logger.error(f'User Name: {user_name} with Exception: {e}', exc_info=True)"
   ]
  },
  {
   "cell_type": "code",
   "execution_count": 654,
   "metadata": {},
   "outputs": [
    {
     "name": "stdout",
     "output_type": "stream",
     "text": [
      "Authentication OK\n",
      "naval [{'code': 327, 'message': 'You have already retweeted this Tweet.'}]\n",
      "No tweets from elonmusk fulfil the specified criteria\n",
      "paulg [{'code': 327, 'message': 'You have already retweeted this Tweet.'}]\n",
      "micsolana [{'code': 327, 'message': 'You have already retweeted this Tweet.'}]\n",
      "jamesclear [{'code': 327, 'message': 'You have already retweeted this Tweet.'}]\n"
     ]
    }
   ],
   "source": [
    "if __name__ == '__main__':\n",
    "    \n",
    "    api = get_api(twitter_config.api_config)\n",
    "    \n",
    "    past = get_timestamp_past_24_hours()\n",
    "    \n",
    "    for user_name in twitter_config.list_user_names:\n",
    "    \n",
    "        try:\n",
    "            retweet(api, user_name, past, retweets=False)\n",
    "\n",
    "        # To handle any errors raises while running against a specific user\n",
    "        except tweepy.TweepError as e:\n",
    "            print (user_name, e)"
   ]
  },
  {
   "cell_type": "markdown",
   "metadata": {},
   "source": [
    "Simplest way to use logger"
   ]
  },
  {
   "cell_type": "code",
   "execution_count": 626,
   "metadata": {},
   "outputs": [
    {
     "name": "stderr",
     "output_type": "stream",
     "text": [
      "ERROR:root:Exception occurred\n",
      "Traceback (most recent call last):\n",
      "  File \"<ipython-input-626-ff9bd090102c>\", line 5, in <module>\n",
      "    retweet('naval', past, retweets=False)\n",
      "  File \"<ipython-input-593-e2113cdc642a>\", line 46, in retweet\n",
      "    apply_logic(user_name, tweet_list)\n",
      "  File \"<ipython-input-593-e2113cdc642a>\", line 18, in apply_logic\n",
      "    _ = api.retweet(int(max_retweets_id))\n",
      "  File \"c:\\users\\lakhan\\appdata\\local\\programs\\python\\python37\\lib\\site-packages\\tweepy\\binder.py\", line 250, in _call\n",
      "    return method.execute()\n",
      "  File \"c:\\users\\lakhan\\appdata\\local\\programs\\python\\python37\\lib\\site-packages\\tweepy\\binder.py\", line 233, in execute\n",
      "    raise TweepError(error_msg, resp, api_code=api_error_code)\n",
      "tweepy.error.TweepError: [{'code': 327, 'message': 'You have already retweeted this Tweet.'}]\n"
     ]
    }
   ],
   "source": [
    "import logging\n",
    "logging.basicConfig(level=logging.INFO)\n",
    "try:\n",
    "    retweet('naval', past, retweets=False)\n",
    "except Exception as e:\n",
    "    logging.error(\"Exception occurred\", exc_info=True)"
   ]
  },
  {
   "cell_type": "code",
   "execution_count": 555,
   "metadata": {},
   "outputs": [
    {
     "ename": "TweepError",
     "evalue": "[{'code': 327, 'message': 'You have already retweeted this Tweet.'}]",
     "output_type": "error",
     "traceback": [
      "\u001b[1;31m---------------------------------------------------------------------------\u001b[0m",
      "\u001b[1;31mTweepError\u001b[0m                                Traceback (most recent call last)",
      "\u001b[1;32m<ipython-input-555-80c807f32e55>\u001b[0m in \u001b[0;36m<module>\u001b[1;34m\u001b[0m\n\u001b[1;32m----> 1\u001b[1;33m \u001b[0mretweet\u001b[0m\u001b[1;33m(\u001b[0m\u001b[1;34m'paulg'\u001b[0m\u001b[1;33m,\u001b[0m \u001b[0mpast\u001b[0m\u001b[1;33m)\u001b[0m\u001b[1;33m\u001b[0m\u001b[1;33m\u001b[0m\u001b[0m\n\u001b[0m",
      "\u001b[1;32m<ipython-input-552-dc953a6b5b57>\u001b[0m in \u001b[0;36mretweet\u001b[1;34m(user_name, past)\u001b[0m\n\u001b[0;32m     43\u001b[0m \u001b[1;33m\u001b[0m\u001b[0m\n\u001b[0;32m     44\u001b[0m     \u001b[1;31m# send to apply_logic func for sorting and other checks\u001b[0m\u001b[1;33m\u001b[0m\u001b[1;33m\u001b[0m\u001b[1;33m\u001b[0m\u001b[0m\n\u001b[1;32m---> 45\u001b[1;33m     \u001b[0mapply_logic\u001b[0m\u001b[1;33m(\u001b[0m\u001b[0muser_name\u001b[0m\u001b[1;33m,\u001b[0m \u001b[0mtweet_list\u001b[0m\u001b[1;33m)\u001b[0m\u001b[1;33m\u001b[0m\u001b[1;33m\u001b[0m\u001b[0m\n\u001b[0m\u001b[0;32m     46\u001b[0m \u001b[1;33m\u001b[0m\u001b[0m\n",
      "\u001b[1;32m<ipython-input-552-dc953a6b5b57>\u001b[0m in \u001b[0;36mapply_logic\u001b[1;34m(user_name, tweet_list)\u001b[0m\n\u001b[0;32m     13\u001b[0m     \u001b[1;31m# if max_retweets and max_favorites refer to the same id, retweet one of them\u001b[0m\u001b[1;33m\u001b[0m\u001b[1;33m\u001b[0m\u001b[1;33m\u001b[0m\u001b[0m\n\u001b[0;32m     14\u001b[0m     \u001b[1;32mif\u001b[0m \u001b[0mmax_retweets\u001b[0m \u001b[1;33m==\u001b[0m \u001b[0mmax_favorites\u001b[0m\u001b[1;33m:\u001b[0m\u001b[1;33m\u001b[0m\u001b[1;33m\u001b[0m\u001b[0m\n\u001b[1;32m---> 15\u001b[1;33m         \u001b[0m_\u001b[0m \u001b[1;33m=\u001b[0m \u001b[0mapi\u001b[0m\u001b[1;33m.\u001b[0m\u001b[0mretweet\u001b[0m\u001b[1;33m(\u001b[0m\u001b[0mint\u001b[0m\u001b[1;33m(\u001b[0m\u001b[0mmax_retweets\u001b[0m\u001b[1;33m)\u001b[0m\u001b[1;33m)\u001b[0m\u001b[1;33m\u001b[0m\u001b[1;33m\u001b[0m\u001b[0m\n\u001b[0m\u001b[0;32m     16\u001b[0m \u001b[1;33m\u001b[0m\u001b[0m\n\u001b[0;32m     17\u001b[0m     \u001b[1;32melse\u001b[0m\u001b[1;33m:\u001b[0m\u001b[1;33m\u001b[0m\u001b[1;33m\u001b[0m\u001b[0m\n",
      "\u001b[1;32mc:\\users\\lakhan\\appdata\\local\\programs\\python\\python37\\lib\\site-packages\\tweepy\\binder.py\u001b[0m in \u001b[0;36m_call\u001b[1;34m(*args, **kwargs)\u001b[0m\n\u001b[0;32m    248\u001b[0m                 \u001b[1;32mreturn\u001b[0m \u001b[0mmethod\u001b[0m\u001b[1;33m\u001b[0m\u001b[1;33m\u001b[0m\u001b[0m\n\u001b[0;32m    249\u001b[0m             \u001b[1;32melse\u001b[0m\u001b[1;33m:\u001b[0m\u001b[1;33m\u001b[0m\u001b[1;33m\u001b[0m\u001b[0m\n\u001b[1;32m--> 250\u001b[1;33m                 \u001b[1;32mreturn\u001b[0m \u001b[0mmethod\u001b[0m\u001b[1;33m.\u001b[0m\u001b[0mexecute\u001b[0m\u001b[1;33m(\u001b[0m\u001b[1;33m)\u001b[0m\u001b[1;33m\u001b[0m\u001b[1;33m\u001b[0m\u001b[0m\n\u001b[0m\u001b[0;32m    251\u001b[0m         \u001b[1;32mfinally\u001b[0m\u001b[1;33m:\u001b[0m\u001b[1;33m\u001b[0m\u001b[1;33m\u001b[0m\u001b[0m\n\u001b[0;32m    252\u001b[0m             \u001b[0mmethod\u001b[0m\u001b[1;33m.\u001b[0m\u001b[0msession\u001b[0m\u001b[1;33m.\u001b[0m\u001b[0mclose\u001b[0m\u001b[1;33m(\u001b[0m\u001b[1;33m)\u001b[0m\u001b[1;33m\u001b[0m\u001b[1;33m\u001b[0m\u001b[0m\n",
      "\u001b[1;32mc:\\users\\lakhan\\appdata\\local\\programs\\python\\python37\\lib\\site-packages\\tweepy\\binder.py\u001b[0m in \u001b[0;36mexecute\u001b[1;34m(self)\u001b[0m\n\u001b[0;32m    231\u001b[0m                     \u001b[1;32mraise\u001b[0m \u001b[0mRateLimitError\u001b[0m\u001b[1;33m(\u001b[0m\u001b[0merror_msg\u001b[0m\u001b[1;33m,\u001b[0m \u001b[0mresp\u001b[0m\u001b[1;33m)\u001b[0m\u001b[1;33m\u001b[0m\u001b[1;33m\u001b[0m\u001b[0m\n\u001b[0;32m    232\u001b[0m                 \u001b[1;32melse\u001b[0m\u001b[1;33m:\u001b[0m\u001b[1;33m\u001b[0m\u001b[1;33m\u001b[0m\u001b[0m\n\u001b[1;32m--> 233\u001b[1;33m                     \u001b[1;32mraise\u001b[0m \u001b[0mTweepError\u001b[0m\u001b[1;33m(\u001b[0m\u001b[0merror_msg\u001b[0m\u001b[1;33m,\u001b[0m \u001b[0mresp\u001b[0m\u001b[1;33m,\u001b[0m \u001b[0mapi_code\u001b[0m\u001b[1;33m=\u001b[0m\u001b[0mapi_error_code\u001b[0m\u001b[1;33m)\u001b[0m\u001b[1;33m\u001b[0m\u001b[1;33m\u001b[0m\u001b[0m\n\u001b[0m\u001b[0;32m    234\u001b[0m \u001b[1;33m\u001b[0m\u001b[0m\n\u001b[0;32m    235\u001b[0m             \u001b[1;31m# Parse the response payload\u001b[0m\u001b[1;33m\u001b[0m\u001b[1;33m\u001b[0m\u001b[1;33m\u001b[0m\u001b[0m\n",
      "\u001b[1;31mTweepError\u001b[0m: [{'code': 327, 'message': 'You have already retweeted this Tweet.'}]"
     ]
    }
   ],
   "source": [
    "# TweepError: [{'code': 327, 'message': 'You have already retweeted this Tweet.'}]"
   ]
  },
  {
   "cell_type": "code",
   "execution_count": 537,
   "metadata": {},
   "outputs": [],
   "source": [
    "# # sort list with key\n",
    "# # 1-> retweet_count and 2 -> favorite_count\n",
    "# sorted_list = sorted(tweet_list, key=lambda i:i[2], reverse=True)\n",
    "\n",
    "# # print list\n",
    "# print('Sorted list:', sorted_list)"
   ]
  },
  {
   "cell_type": "code",
   "execution_count": 538,
   "metadata": {},
   "outputs": [],
   "source": [
    "# api.update_status(sorted_list[0][0])"
   ]
  },
  {
   "cell_type": "code",
   "execution_count": 539,
   "metadata": {
    "scrolled": false
   },
   "outputs": [],
   "source": [
    "# timeline[6].retweeted_status.full_text\n",
    "# timeline[6].retweeted_status.retweet_count\n",
    "# timeline[6].retweeted_status.favorite_count\n",
    "\n",
    "\n",
    "# timeline[6].retweeted_status.quoted_status.full_text\n",
    "# timeline[6].retweeted_status.quoted_status.retweet_count\n",
    "# timeline[6].retweeted_status.quoted_status.favorite_count"
   ]
  },
  {
   "cell_type": "code",
   "execution_count": 540,
   "metadata": {
    "scrolled": false
   },
   "outputs": [],
   "source": [
    "# tweet.retweeted_status._json\n",
    "# tweet._json\n",
    "\n",
    "# tweet._json['retweeted_status']['user']\n",
    "# tweet._json['retweeted_status']['quoted_status'] # Retweet -> Tweet -> Quoted Tweet\n",
    "# tweet.retweeted_status._json\n",
    "\n",
    "# tweet.author._json\n",
    "# tweet.user._json\n",
    "\n",
    "# tweet.created_at\n",
    "\n"
   ]
  }
 ],
 "metadata": {
  "kernelspec": {
   "display_name": "Python 3",
   "language": "python",
   "name": "python3"
  },
  "language_info": {
   "codemirror_mode": {
    "name": "ipython",
    "version": 3
   },
   "file_extension": ".py",
   "mimetype": "text/x-python",
   "name": "python",
   "nbconvert_exporter": "python",
   "pygments_lexer": "ipython3",
   "version": "3.7.3"
  }
 },
 "nbformat": 4,
 "nbformat_minor": 2
}
